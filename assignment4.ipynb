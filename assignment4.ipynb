{
 "cells": [
  {
   "cell_type": "code",
   "execution_count": 1,
   "metadata": {},
   "outputs": [
    {
     "name": "stdout",
     "output_type": "stream",
     "text": [
      "dict_keys(['first_name', 'last_name', 'age', 'city'])\n",
      "dict_values(['fayaz', 'jumani', 20, 'hyderabad'])\n",
      "{'first_name': 'fayaz', 'last_name': 'jumani', 'age': 20, 'city': 'hyderabad', 'qualification': 'matric'}\n",
      "{'first_name': 'fayaz', 'last_name': 'jumani', 'age': 20, 'city': 'hyderabad', 'qualification': 'B.E in C.S.E'}\n",
      "{'first_name': 'fayaz', 'last_name': 'jumani', 'age': 20, 'city': 'hyderabad'}\n"
     ]
    }
   ],
   "source": [
    "person={'first_name': 'fayaz', 'last_name': 'jumani', 'age': 20, 'city': 'hyderabad'}\n",
    "print(person.keys())\n",
    "print(person.values())\n",
    "person.update({'qualification': 'matric'})\n",
    "print(person)\n",
    "person.update(qualification= 'B.E in C.S.E')\n",
    "print(person)\n",
    "del person['qualification']\n",
    "print(person)"
   ]
  },
  {
   "cell_type": "code",
   "execution_count": 2,
   "metadata": {},
   "outputs": [
    {
     "name": "stdout",
     "output_type": "stream",
     "text": [
      "karachi {'country': 'pakistan', 'population ': '1.2billion', 'fact': 'city_of_light'}\n",
      "london {'country': 'england', 'population': '2.6billion', 'fact': '1st_biggest_city'}\n",
      "paris {'country': 'france', 'population': '1.5million', 'fact': 'city_of_fragrances'}\n"
     ]
    }
   ],
   "source": [
    "cities={\n",
    "   \"karachi\": {\n",
    "    \"country\" : \"pakistan\", \n",
    "    \"population \" : \"1.2billion\", \n",
    "    \"fact\" : \"city_of_light\",\n",
    "    },\n",
    "   \"london\": {\n",
    "    \"country\" : \"england\", \n",
    "    \"population\" : \"2.6billion\",\n",
    "    \"fact\" : \"1st_biggest_city\",\n",
    "    },\n",
    "   \"paris\": {\n",
    "    \"country\" : \"france\",\n",
    "    \"population\" : \"1.5million\", \n",
    "    \"fact\" : \"city_of_fragrances\",\n",
    "    },\n",
    "    }\n",
    "for a,b in cities.items():\n",
    "    print(a,b)"
   ]
  },
  {
   "cell_type": "code",
   "execution_count": 3,
   "metadata": {},
   "outputs": [
    {
     "name": "stdout",
     "output_type": "stream",
     "text": [
      "input 0 for exit\n",
      "enter your age : 2\n",
      "ticket is free\n",
      "enter your age : 3\n",
      "ticket is $10\n",
      "enter your age : 20\n",
      "ticket is $15\n",
      "enter your age : 0\n",
      "program terminated\n"
     ]
    }
   ],
   "source": [
    "i = 1\n",
    "print(\"input 0 for exit\")\n",
    "boolean=True\n",
    "while boolean:\n",
    "    age=int(input(\"enter your age : \"))\n",
    "    if (age>0 and age<3):\n",
    "        print(\"ticket is free\")\n",
    "    elif (age>=3 and age<=12):\n",
    "        print(\"ticket is $10\")\n",
    "    elif(age > 12) :\n",
    "        print(\"ticket is $15\")\n",
    "    if age==0:\n",
    "        print(\"program terminated\")\n",
    "        boolean=False"
   ]
  },
  {
   "cell_type": "code",
   "execution_count": 4,
   "metadata": {},
   "outputs": [
    {
     "name": "stdout",
     "output_type": "stream",
     "text": [
      "One of my favorite books is Alice in Wonderland\n"
     ]
    }
   ],
   "source": [
    "def favorite_book(title):\n",
    "    print(\"One of my favorite books is \"+title) \n",
    "favorite_book(\"Alice in Wonderland\")"
   ]
  },
  {
   "cell_type": "code",
   "execution_count": 4,
   "metadata": {},
   "outputs": [
    {
     "name": "stdout",
     "output_type": "stream",
     "text": [
      "2\n",
      "guess the correct random number between 1 to 30 : 1\n",
      "Guessed number is less than random number\n",
      "guess the correct random number between 1 to 30 : 5\n",
      "Guessed number is greater than random number\n",
      "guess the correct random number between 1 to 30 : 2\n",
      "you have guessed correct number\n"
     ]
    }
   ],
   "source": [
    "import random \n",
    "value= random.randint(1,30)\n",
    "print(value)\n",
    "i=0\n",
    "while i<3:\n",
    "    number=int(input(\"guess the correct random number between 1 to 30 : \"))\n",
    "    if number > value :\n",
    "        print(\"Guessed number is greater than random number\")\n",
    "    elif number < value :\n",
    "        print(\"Guessed number is less than random number\")\n",
    "    elif number==value : \n",
    "        print(\"you have guessed correct number\")\n",
    "        break\n",
    "    if i==2 :\n",
    "        print(\"you have guessed the wrong number 3 times\")\n",
    "    i=i+1\n",
    "    "
   ]
  },
  {
   "cell_type": "code",
   "execution_count": null,
   "metadata": {},
   "outputs": [],
   "source": []
  },
  {
   "cell_type": "code",
   "execution_count": null,
   "metadata": {},
   "outputs": [],
   "source": []
  }
 ],
 "metadata": {
  "kernelspec": {
   "display_name": "Python 3",
   "language": "python",
   "name": "python3"
  },
  "language_info": {
   "codemirror_mode": {
    "name": "ipython",
    "version": 3
   },
   "file_extension": ".py",
   "mimetype": "text/x-python",
   "name": "python",
   "nbconvert_exporter": "python",
   "pygments_lexer": "ipython3",
   "version": "3.7.4"
  }
 },
 "nbformat": 4,
 "nbformat_minor": 2
}
