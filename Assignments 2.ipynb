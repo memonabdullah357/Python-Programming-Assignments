{
 "cells": [
  {
   "cell_type": "code",
   "execution_count": null,
   "metadata": {},
   "outputs": [],
   "source": [
    "#task1\n",
    "name=input(\"enter you name:\")\n",
    "rollno=input(\"enter your roll number:\")\n",
    "schoolname=input(\"enter your school name:\")\n",
    "sub1=int(input(\"enter the marks of math:\"))\n",
    "sub2=int(input(\"enter the marks of science:\"))\n",
    "sub3=int(input(\"enter the marks of urdu:\"))\n",
    "sub4=int(input(\"enter the marks of sindhi:\"))\n",
    "sub5=int(input(\"enter the marks of islamiat:\"))\n",
    "total=((sub1+sub2+sub3+sub4+sub5)*100)//500\n",
    "if total<50:\n",
    "    print(\"         marksheet of \"+schoolname)\n",
    "    print(\"NAME:\"+name)\n",
    "    print(\"Roll no:\"+rollno)\n",
    "    print(\"       math:\"+str(sub1))\n",
    "    print(\"    science:\"+str(sub2))\n",
    "    print(\"       urdu:\"+str(sub3))\n",
    "    print(\"     sindhi:\"+str(sub4))\n",
    "    print(\"   islamiat:\"+str(sub5))\n",
    "    print(\"Total Marks:\"+str(total)+\" Grade:'F'\")\n",
    "elif total>80 and total<100:\n",
    "    print(\"         marksheet of \"+schoolname)\n",
    "    print(\"NAME:\"+name)\n",
    "    print(\"Roll no:\"+rollno)\n",
    "    print(\"       math:\"+str(sub1))\n",
    "    print(\"    science:\"+str(sub2))\n",
    "    print(\"       urdu:\"+str(sub3))\n",
    "    print(\"     sindhi:\"+str(sub4))\n",
    "    print(\"   islamiat:\"+str(sub5))\n",
    "    print(\"Total Marks:\"+str(total)+\" Grade:'A+'\")\n",
    "elif total>70 and total<80:\n",
    "    print(\"         marksheet of \"+schoolname)\n",
    "    print(\"NAME:\"+name)\n",
    "    print(\"Roll no:\"+rollno)\n",
    "    print(\"       math:\"+str(sub1))\n",
    "    print(\"    science:\"+str(sub2))\n",
    "    print(\"       urdu:\"+str(sub3))\n",
    "    print(\"     sindhi:\"+str(sub4))\n",
    "    print(\"   islamiat:\"+str(sub5))\n",
    "    print(\"Total Marks:\"+str(total)+\" Grade:'A'\")\n",
    "elif total>60 and total<70:\n",
    "    print(\"         marksheet of \"+schoolname)\n",
    "    print(\"NAME:\"+name)\n",
    "    print(\"Roll no:\"+rollno)\n",
    "    print(\"       math:\"+str(sub1))\n",
    "    print(\"    science:\"+str(sub2))\n",
    "    print(\"       urdu:\"+str(sub3))\n",
    "    print(\"     sindhi:\"+str(sub4))\n",
    "    print(\"   islamiat:\"+str(sub5))\n",
    "    print(\"Total Marks:\"+str(total)+\" Grade:'B'\")\n",
    "elif total>50 and total<60:\n",
    "    print(\"         marksheet of \"+schoolname)\n",
    "    print(\"NAME:\"+name)\n",
    "    print(\"Roll no:\"+rollno)\n",
    "    print(\"       math:\"+str(sub1))\n",
    "    print(\"    science:\"+str(sub2))\n",
    "    print(\"       urdu:\"+str(sub3))\n",
    "    print(\"     sindhi:\"+str(sub4))\n",
    "    print(\"   islamiat:\"+str(sub5))\n",
    "    print(\"Total Marks:\"+str(total)+\" Grade:'D'\")\n",
    "else:\n",
    "    print(\"some input values are not valid\")"
   ]
  },
  {
   "cell_type": "code",
   "execution_count": null,
   "metadata": {},
   "outputs": [],
   "source": [
    "#task2\n",
    "x=int(input(\"enter number to check:\"))\n",
    "if x%2==0:\n",
    "    print(\"it is even number\")\n",
    "else:\n",
    "    print(\"it is odd number\")"
   ]
  },
  {
   "cell_type": "code",
   "execution_count": null,
   "metadata": {},
   "outputs": [],
   "source": [
    "#task3\n",
    "#task3\n",
    "a = [1, 1, 2, 3, 5, 8, 13, 21, 34, 55, 89]\n",
    "print(len(a))"
   ]
  },
  {
   "cell_type": "code",
   "execution_count": null,
   "metadata": {},
   "outputs": [],
   "source": [
    "#task4\n",
    "a = [1, 1, 2, 3, 5]\n",
    "sum=a[0]+a[1]+a[2]+a[3]+a[4]\n",
    "print(sum)"
   ]
  },
  {
   "cell_type": "code",
   "execution_count": null,
   "metadata": {},
   "outputs": [],
   "source": [
    "#task5\n",
    "a = [1, 1, 2, 3, 5, 8, 13, 21, 34, 55, 89]\n",
    "length=len(a)\n",
    "n=a[0]\n",
    "for i in range(0, length):\n",
    "    if a[i]>n:\n",
    "        n=a[i]\n",
    "print(n)"
   ]
  },
  {
   "cell_type": "code",
   "execution_count": null,
   "metadata": {},
   "outputs": [],
   "source": [
    "#task6\n",
    "a = [1, 1, 2, 3, 5, 8, 13, 21, 34, 55, 89]\n",
    "length=len(a)\n",
    "for i in range(0,length):\n",
    "    if a[i]<5:\n",
    "        print(a[i])"
   ]
  },
  {
   "cell_type": "code",
   "execution_count": null,
   "metadata": {},
   "outputs": [],
   "source": []
  }
 ],
 "metadata": {
  "kernelspec": {
   "display_name": "Python 3",
   "language": "python",
   "name": "python3"
  },
  "language_info": {
   "codemirror_mode": {
    "name": "ipython",
    "version": 3
   },
   "file_extension": ".py",
   "mimetype": "text/x-python",
   "name": "python",
   "nbconvert_exporter": "python",
   "pygments_lexer": "ipython3",
   "version": "3.7.3"
  }
 },
 "nbformat": 4,
 "nbformat_minor": 2
}
