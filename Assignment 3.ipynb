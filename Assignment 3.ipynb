{
 "cells": [
  {
   "cell_type": "code",
   "execution_count": 1,
   "metadata": {},
   "outputs": [
    {
     "name": "stdout",
     "output_type": "stream",
     "text": [
      "enter 1st number : 23\n",
      "enter 2nd number : 22\n",
      "select any oprtation from -,+,*,/ : +\n",
      "45\n"
     ]
    }
   ],
   "source": [
    "\n",
    "a=int(input(\"enter 1st number : \"))\n",
    "b=int(input(\"enter 2nd number : \"))\n",
    "c=input(\"select any oprtation from -,+,*,/ : \")\n",
    "if c==\"+\":\n",
    "    z=a+b\n",
    "    print(z)\n",
    "elif c==\"-\":\n",
    "    z=a-b\n",
    "    print(z)\n",
    "elif c==\"*\":\n",
    "    z=a*b\n",
    "    print(z)\n",
    "elif c==\"/\":\n",
    "    z=a/b\n",
    "    print(z)"
   ]
  },
  {
   "cell_type": "code",
   "execution_count": 2,
   "metadata": {},
   "outputs": [
    {
     "name": "stdout",
     "output_type": "stream",
     "text": [
      "3\n",
      "8\n"
     ]
    }
   ],
   "source": [
    "\n",
    "a=[\"ali\",\"fayaz\",3,8]\n",
    "temp= type(1)\n",
    "for i in a:\n",
    "    if type(i)==temp:\n",
    "        print(i)"
   ]
  },
  {
   "cell_type": "code",
   "execution_count": 3,
   "metadata": {},
   "outputs": [
    {
     "name": "stdout",
     "output_type": "stream",
     "text": [
      "{0: 0, 1: 11, 2: 22, 3: 33}\n",
      "{0: 0, 1: 11, 2: 22, 3: 33, 4: 44}\n"
     ]
    }
   ],
   "source": [
    "d = {0:00, 1:11, 2:22, 3:33}\n",
    "print(d)\n",
    "d.update({4:44})\n",
    "print(d)"
   ]
  },
  {
   "cell_type": "code",
   "execution_count": 4,
   "metadata": {},
   "outputs": [
    {
     "name": "stdout",
     "output_type": "stream",
     "text": [
      "546\n"
     ]
    }
   ],
   "source": [
    "mydict = {'v1':100,'v2':-54,'v3':500}\n",
    "print(sum(mydict.values()))"
   ]
  },
  {
   "cell_type": "code",
   "execution_count": 5,
   "metadata": {},
   "outputs": [
    {
     "name": "stdout",
     "output_type": "stream",
     "text": [
      "[20, 40, 50]\n"
     ]
    }
   ],
   "source": [
    "list = [10,20,20,30,40,40,50,50,60]\n",
    "count = 0\n",
    "item = 0\n",
    "new = []\n",
    "for i in list:\n",
    "    count = list.count(i)\n",
    "    if (count > 1 and item != i):\n",
    "        item = i\n",
    "        new.append(i)\n",
    "print(new)"
   ]
  },
  {
   "cell_type": "code",
   "execution_count": 6,
   "metadata": {},
   "outputs": [
    {
     "name": "stdout",
     "output_type": "stream",
     "text": [
      "Key is present in the dictionary\n",
      "Key is not present in the dictionary\n"
     ]
    }
   ],
   "source": [
    "\n",
    "d = {1: 10, 2: 20, 3: 30, 4: 40, 5: 50, 6: 60}\n",
    "def is_key_present(x):\n",
    "  if x in d:\n",
    "      print('Key is present in the dictionary')\n",
    "  else:\n",
    "      print('Key is not present in the dictionary')\n",
    "is_key_present(3)\n",
    "is_key_present(7)"
   ]
  },
  {
   "cell_type": "code",
   "execution_count": null,
   "metadata": {},
   "outputs": [],
   "source": []
  }
 ],
 "metadata": {
  "kernelspec": {
   "display_name": "Python 3",
   "language": "python",
   "name": "python3"
  },
  "language_info": {
   "codemirror_mode": {
    "name": "ipython",
    "version": 3
   },
   "file_extension": ".py",
   "mimetype": "text/x-python",
   "name": "python",
   "nbconvert_exporter": "python",
   "pygments_lexer": "ipython3",
   "version": "3.7.3"
  }
 },
 "nbformat": 4,
 "nbformat_minor": 2
}
