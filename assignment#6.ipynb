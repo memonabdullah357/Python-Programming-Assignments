{
 "cells": [
  {
   "cell_type": "code",
   "execution_count": null,
   "metadata": {},
   "outputs": [],
   "source": [
    "# Define Object Oriented Programming Language?\n",
    "'''\n",
    "OOP is just a way/style to write a code very helpful in creating real world programs.\n",
    "OOP is paradigm in which real world objects are each viewed as separte entities having\n",
    "their own state which modified only by built in procedure called methods."
   ]
  },
  {
   "cell_type": "code",
   "execution_count": null,
   "metadata": {},
   "outputs": [],
   "source": [
    "# Question 2:\n",
    "# List down the Benefits of OOP?\n",
    "'''\n",
    "1. Modularity for easier troubleshooting\n",
    "2. Reuse of code through inheritance.\n",
    "3. Flexibility through polymorphism\n",
    "4. Effective problem solving."
   ]
  },
  {
   "cell_type": "code",
   "execution_count": null,
   "metadata": {},
   "outputs": [],
   "source": [
    "#q3:Differentiate between function and method?\n",
    "#Ans:\n",
    "\"\"\"function:\n",
    "A function is a piece of code that is called by name. It can be passed data to operate on (i.e. the parameters)\n",
    "and can optionally return data (the return value).\n",
    "All data that is passed to a function is explicitly passed.\n",
    "Method:\n",
    "A method is a piece of code that is called by a name that is associated with an object. In most respects \n",
    "it is identical to a function except for two key differences:\n",
    "1-A method is implicitly passed the object on which it was called.\n",
    "2-A method is able to operate on data that is contained within the class (remembering that an object is an instance of a class\n",
    "- the class is the definition, the object is an instance of that data)."
   ]
  },
  {
   "cell_type": "code",
   "execution_count": null,
   "metadata": {},
   "outputs": [],
   "source": [
    "#class\n",
    "'''\n",
    "class is a template or blueprint which decide about the capability of what an object can do\n",
    "\n",
    "or\n",
    "\n",
    "class is a template or blueprint which decide how will be the our upcoming object.\n",
    "\n",
    "'''\n",
    "# Object\n",
    "'''\n",
    "An Object is instantiation of class. when class is defined only the description for the object is defined. \n",
    "Therefore, no memory or storage is allocated.\n",
    "'''\n",
    "# methods\n",
    "'''\n",
    "Methods are functions defined inside the body of class. They are used to define the behaviour of class.\n",
    "'''\n",
    "# Attribute\n",
    "'''\n",
    "Atrribute is the peoperty of object"
   ]
  },
  {
   "cell_type": "code",
   "execution_count": 1,
   "metadata": {},
   "outputs": [
    {
     "name": "stdout",
     "output_type": "stream",
     "text": [
      "CAR NAME :  Cultus\n",
      "CAR Price :  190000\n",
      "Registration Year :  2018\n"
     ]
    }
   ],
   "source": [
    "'''\n",
    "Question 5:\n",
    "Write a code in python in which create a class named it Car which\n",
    "have 5 attributes such like (model, color and name etc.) and 3\n",
    "methods. And create 5 object instance from that class.\n",
    "'''\n",
    "\n",
    "class Car:\n",
    "    def __init__(self,model,color,name,price,registration_year):\n",
    "        self.model = model\n",
    "        self.color = color\n",
    "        self.name = name\n",
    "        self.price = price\n",
    "        self.R_year = registration_year\n",
    "    def return_name(self):\n",
    "        return self.name\n",
    "    def return_price(self):\n",
    "        return self.price\n",
    "    def return_year(self):\n",
    "        return self.R_year\n",
    "C1 = Car(2010,\"White\",\"Carolla\",170000,2009)\n",
    "C2 = Car(2012,\"BLUE\",\"civic\",200000,2010)\n",
    "C3 = Car(2013,\"White\",\"honda\",300000,2011)\n",
    "C4 = Car(2015,\"White\",\"Mehran\",700000,2014)\n",
    "C1 = Car(2018,\"White\",\"Cultus\",190000,2018)\n",
    "print(\"CAR NAME : \",C1.return_name())\n",
    "print(\"CAR Price : \",C1.return_price())\n",
    "print(\"Registration Year : \",C1.return_year())"
   ]
  },
  {
   "cell_type": "code",
   "execution_count": null,
   "metadata": {},
   "outputs": [],
   "source": []
  }
 ],
 "metadata": {
  "kernelspec": {
   "display_name": "Python 3",
   "language": "python",
   "name": "python3"
  },
  "language_info": {
   "codemirror_mode": {
    "name": "ipython",
    "version": 3
   },
   "file_extension": ".py",
   "mimetype": "text/x-python",
   "name": "python",
   "nbconvert_exporter": "python",
   "pygments_lexer": "ipython3",
   "version": "3.7.4"
  }
 },
 "nbformat": 4,
 "nbformat_minor": 2
}
