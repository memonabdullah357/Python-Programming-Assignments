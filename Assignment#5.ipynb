{
 "cells": [
  {
   "cell_type": "code",
   "execution_count": 1,
   "metadata": {},
   "outputs": [
    {
     "name": "stdout",
     "output_type": "stream",
     "text": [
      "Enter the num 5\n",
      "factorial of the : 5  is  120\n"
     ]
    }
   ],
   "source": [
    "def factorial(num):\n",
    "    fact=1\n",
    "    for  i in  range(1,num+1):\n",
    "        fact =fact*i\n",
    "    return fact\n",
    "\n",
    "num = int(input(\"Enter the num \"))\n",
    "print(\"factorial of the :\",num,\" is \",factorial(num))\n",
    "\n",
    "    \n",
    "        "
   ]
  },
  {
   "cell_type": "code",
   "execution_count": 23,
   "metadata": {},
   "outputs": [
    {
     "name": "stdout",
     "output_type": "stream",
     "text": [
      "Enter String MasoodAhmed\n",
      "There are  2  upper characters and  9  lower characters in  MasoodAhmed\n"
     ]
    }
   ],
   "source": [
    "def calculateChar(stringvar ):\n",
    "    capital=0\n",
    "    small=0\n",
    "    for i in stringvar:\n",
    "        if(i.isupper()):\n",
    "            capital=capital+1\n",
    "        else:\n",
    "            small=small+1\n",
    "    print(\"There are \",capital,\" upper characters and \", small,\" lower characters in \",stringvar)\n",
    "var = input(\"Enter String \")\n",
    "calculateChar(var)\n",
    "        "
   ]
  },
  {
   "cell_type": "code",
   "execution_count": 7,
   "metadata": {},
   "outputs": [
    {
     "name": "stdout",
     "output_type": "stream",
     "text": [
      "2 4 6 8 10 "
     ]
    }
   ],
   "source": [
    "def printEven(var):\n",
    "    for i in var:\n",
    "        if(i%2==0):\n",
    "            print(i,end=' ')\n",
    "lisst = [1,2,3,4,5,6,7,8,9,10]\n",
    "printEven(lisst)\n",
    "        "
   ]
  },
  {
   "cell_type": "code",
   "execution_count": 11,
   "metadata": {},
   "outputs": [
    {
     "name": "stdout",
     "output_type": "stream",
     "text": [
      "Enter the Stringmadam\n",
      "madam  is a Pallindrome String : True\n"
     ]
    }
   ],
   "source": [
    "def palindrome(var):\n",
    "    return var==var[::-1]\n",
    "name =input(\"Enter the String\")\n",
    "print(name,' is a Pallindrome String :',  palindrome(name))"
   ]
  },
  {
   "cell_type": "code",
   "execution_count": 18,
   "metadata": {},
   "outputs": [
    {
     "name": "stdout",
     "output_type": "stream",
     "text": [
      "Enter the number 13\n",
      "13  is a Prime number \n"
     ]
    }
   ],
   "source": [
    "def checkPrime(num):\n",
    "    check = True\n",
    "    for i in range(2,num):\n",
    "        if(num%i==0):\n",
    "            check =False\n",
    "    return check\n",
    "num = int(input(\"Enter the number \"))\n",
    "if(checkPrime(num)):\n",
    "    print(num,\" is a Prime number \")\n",
    "else:\n",
    "    print(num,\" is Not a Prime number \")\n",
    "    \n",
    "        "
   ]
  },
  {
   "cell_type": "code",
   "execution_count": 22,
   "metadata": {},
   "outputs": [
    {
     "name": "stdout",
     "output_type": "stream",
     "text": [
      "pizza\n",
      "Zinger Burger\n",
      "Cold drink\n",
      "Ice cream\n"
     ]
    }
   ],
   "source": [
    "def printBaughtItem(*item):\n",
    "    for i in item:\n",
    "        print(i)\n",
    "printBaughtItem('pizza','Zinger Burger','Cold drink','Ice cream')\n"
   ]
  },
  {
   "cell_type": "code",
   "execution_count": null,
   "metadata": {},
   "outputs": [],
   "source": []
  }
 ],
 "metadata": {
  "kernelspec": {
   "display_name": "Python 3",
   "language": "python",
   "name": "python3"
  },
  "language_info": {
   "codemirror_mode": {
    "name": "ipython",
    "version": 3
   },
   "file_extension": ".py",
   "mimetype": "text/x-python",
   "name": "python",
   "nbconvert_exporter": "python",
   "pygments_lexer": "ipython3",
   "version": "3.7.4"
  }
 },
 "nbformat": 4,
 "nbformat_minor": 2
}
